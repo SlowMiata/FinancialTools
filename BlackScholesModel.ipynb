{
 "cells": [
  {
   "cell_type": "markdown",
   "metadata": {},
   "source": [
    "### CIS 4360 Computational Methods in Finance"
   ]
  },
  {
   "cell_type": "code",
   "execution_count": 4,
   "metadata": {},
   "outputs": [],
   "source": [
    "import math\n",
    "import pandas as pd\n",
    "import numpy as np\n",
    "import seaborn as sns\n",
    "import plotly.express as px\n",
    "from scipy.stats import skew, kurtosis\n",
    "from math import log, exp, sqrt, pow"
   ]
  },
  {
   "cell_type": "markdown",
   "metadata": {},
   "source": [
    "**Property of normal distribution**"
   ]
  },
  {
   "cell_type": "markdown",
   "metadata": {},
   "source": [
    "$$ ln S_T \\sim \\phi \\left[ ln S_0 + \\left(\\mu - \\frac{\\sigma^2}{2}\\right) T, \\sigma^2 T\\right]$$"
   ]
  },
  {
   "cell_type": "markdown",
   "metadata": {},
   "source": [
    "**There is a 95% probability that a normal variable will fall within 1.96 standard deviations**"
   ]
  },
  {
   "cell_type": "markdown",
   "metadata": {},
   "source": [
    "**The 95% confidence interval of the normal variable will be between (mean - 1.96 stdev) and (mean+1.96 stdev)**  "
   ]
  },
  {
   "cell_type": "markdown",
   "metadata": {},
   "source": [
    "## Example 15.1"
   ]
  },
  {
   "cell_type": "markdown",
   "metadata": {},
   "source": [
    "**Consider a stock with an initial price of 40, an expected return of 16\\% per annum, and a volatility of 20%. What is the 95% confidence interval of the stock price in 6 months?**"
   ]
  },
  {
   "cell_type": "code",
   "execution_count": 2,
   "metadata": {},
   "outputs": [],
   "source": [
    "# Example 15.1\n",
    "S0 = 40\n",
    "mu = 0.16\n",
    "sigma = 0.2\n",
    "T = 6/12"
   ]
  },
  {
   "cell_type": "code",
   "execution_count": 3,
   "metadata": {},
   "outputs": [
    {
     "name": "stdout",
     "output_type": "stream",
     "text": [
      "3.758879454113936 0.14142135623730953\n"
     ]
    }
   ],
   "source": [
    "mean = log(S0) + (mu - pow(sigma, 2)/2)*T\n",
    "stdev = sigma * sqrt(T)\n",
    "print(mean, stdev)"
   ]
  },
  {
   "cell_type": "code",
   "execution_count": 4,
   "metadata": {},
   "outputs": [
    {
     "name": "stdout",
     "output_type": "stream",
     "text": [
      "32.51474230558975 56.603188205344175\n"
     ]
    }
   ],
   "source": [
    "lower_bound = exp(mean - 1.96*stdev)\n",
    "upper_bound = exp(mean + 1.96*stdev)\n",
    "print(lower_bound, upper_bound)"
   ]
  },
  {
   "cell_type": "markdown",
   "metadata": {},
   "source": [
    "## Example 15.6"
   ]
  },
  {
   "cell_type": "markdown",
   "metadata": {},
   "source": [
    "**The stock price 6 months from the expiration of an option is 42, exercise price of the option is 40, risk-free rate is 10% and volatility is 20%. What should be the call and put priced at?**"
   ]
  },
  {
   "cell_type": "code",
   "execution_count": 16,
   "metadata": {},
   "outputs": [],
   "source": [
    "from scipy.stats import norm"
   ]
  },
  {
   "cell_type": "code",
   "execution_count": 17,
   "metadata": {},
   "outputs": [],
   "source": [
    "S0 = 35\n",
    "K = 38\n",
    "r = 0.04\n",
    "sigma = 0.3\n",
    "T = 0.5"
   ]
  },
  {
   "cell_type": "code",
   "execution_count": 18,
   "metadata": {},
   "outputs": [
    {
     "name": "stdout",
     "output_type": "stream",
     "text": [
      "-0.18732719156546784 -0.39945922592143207\n"
     ]
    }
   ],
   "source": [
    "d1 = (log(S0/K)+(r + sigma**2/2)*T)/(sigma * sqrt(T))\n",
    "d2 = (log(S0/K)+(r - sigma**2/2)*T)/(sigma * sqrt(T))\n",
    "print(d1, d2)"
   ]
  },
  {
   "cell_type": "code",
   "execution_count": 19,
   "metadata": {},
   "outputs": [
    {
     "name": "stdout",
     "output_type": "stream",
     "text": [
      "2.057457377400917\n",
      "0.42570205227468616\n"
     ]
    }
   ],
   "source": [
    "c = S0* norm.cdf(d1) - K*exp(-r*T)*norm.cdf(d2)\n",
    "print(c)\n",
    "\n",
    "delta = 1 * norm.cdf(d1)\n",
    "print (delta)"
   ]
  },
  {
   "cell_type": "code",
   "execution_count": 9,
   "metadata": {},
   "outputs": [],
   "source": [
    "p = K * exp(-r*T)*norm.cdf(-d2) - S0*norm.cdf(-d1)"
   ]
  },
  {
   "cell_type": "code",
   "execution_count": 10,
   "metadata": {},
   "outputs": [
    {
     "data": {
      "text/plain": [
       "0.8085993729000922"
      ]
     },
     "execution_count": 10,
     "metadata": {},
     "output_type": "execute_result"
    }
   ],
   "source": [
    "p"
   ]
  },
  {
   "cell_type": "markdown",
   "metadata": {},
   "source": [
    "### Now let's compare that with your Black-Schole Model Implementation"
   ]
  },
  {
   "cell_type": "markdown",
   "metadata": {},
   "source": [
    "***That is, use your OO Black-Scholes model implementation to calculate the price of the above options. Make sure they reproduce the same answer***"
   ]
  },
  {
   "cell_type": "markdown",
   "metadata": {},
   "source": [
    "***Import your library***"
   ]
  },
  {
   "cell_type": "code",
   "execution_count": 11,
   "metadata": {
    "scrolled": true
   },
   "outputs": [],
   "source": [
    "from blackscholes_model import BlackScholesModel"
   ]
  },
  {
   "cell_type": "markdown",
   "metadata": {},
   "source": [
    "***Question 1: First create a Stock object with the spot_price and the sigma***"
   ]
  },
  {
   "cell_type": "code",
   "execution_count": 12,
   "metadata": {},
   "outputs": [],
   "source": [
    "\n",
    "from stock import Stock\n",
    "import option\n",
    "import os\n",
    "import sqlite3\n",
    "import datetime\n",
    "opt = option.Option()\n",
    "opt.data_dir = \"./data\"\n",
    "opt.output_dir = os.path.join(opt.data_dir, \"daily\")\n",
    "opt.sqlite_db = os.path.join(opt.data_dir, \"sqlitedb/Equity.db\")\n",
    "\n",
    "\n",
    "db_file = opt.sqlite_db\n",
    "db_connection = sqlite3.connect(db_file)\n",
    "#2023, 10, 1\n",
    "as_of_date = datetime.date(2023, 10, 1)\n",
    "\n",
    "stock = Stock(opt, db_connection, sigma=.2, spot_price=42,ticker= 'BABA')\n",
    "\n"
   ]
  },
  {
   "cell_type": "markdown",
   "metadata": {},
   "source": [
    "***Question 2: Create instance of the model***"
   ]
  },
  {
   "cell_type": "code",
   "execution_count": 1,
   "metadata": {},
   "outputs": [
    {
     "ename": "NameError",
     "evalue": "name 'BlackScholesModel' is not defined",
     "output_type": "error",
     "traceback": [
      "\u001b[0;31m---------------------------------------------------------------------------\u001b[0m",
      "\u001b[0;31mNameError\u001b[0m                                 Traceback (most recent call last)",
      "Cell \u001b[0;32mIn[1], line 1\u001b[0m\n\u001b[0;32m----> 1\u001b[0m BlackScholes \u001b[39m=\u001b[39m BlackScholesModel(risk_free_rate\u001b[39m=\u001b[39m\u001b[39m.04\u001b[39m,pricing_date\u001b[39m=\u001b[39m\u001b[39m.5\u001b[39m)\n",
      "\u001b[0;31mNameError\u001b[0m: name 'BlackScholesModel' is not defined"
     ]
    }
   ],
   "source": [
    "BlackScholes = BlackScholesModel(risk_free_rate=.1,pricing_date=.5)\n"
   ]
  },
  {
   "cell_type": "markdown",
   "metadata": {},
   "source": [
    "***Question 3: Now call your model calc_model_price to calculate the above options***"
   ]
  },
  {
   "cell_type": "code",
   "execution_count": 14,
   "metadata": {},
   "outputs": [
    {
     "name": "stdout",
     "output_type": "stream",
     "text": [
      "call  4.759422392871532\n",
      "put  0.8085993729000922\n"
     ]
    }
   ],
   "source": [
    "\n",
    "from financial_option import *\n",
    "EuropeanCallOpt = EuropeanCallOption(stock,T,K)\n",
    "EuropeanPutOpt = EuropeanPutOption(stock,T,K)\n",
    "\n",
    "print('call ', BlackScholes.calc_model_price(EuropeanCallOpt))\n",
    "print('put ', BlackScholes.calc_model_price(EuropeanPutOpt))"
   ]
  },
  {
   "attachments": {},
   "cell_type": "markdown",
   "metadata": {},
   "source": [
    "#### Testing Call-Put Parity"
   ]
  },
  {
   "cell_type": "code",
   "execution_count": 15,
   "metadata": {},
   "outputs": [
    {
     "name": "stdout",
     "output_type": "stream",
     "text": [
      "put 46.04917698002856\n",
      "call 50.000823019971435\n"
     ]
    }
   ],
   "source": [
    "print('put',BlackScholes.calc_parity_price(EuropeanCallOpt,50))\n",
    "print('call',BlackScholes.calc_parity_price(EuropeanPutOpt,46.05))"
   ]
  },
  {
   "cell_type": "markdown",
   "metadata": {},
   "source": [
    "***Question 4: Now call your model to calculate ALL the greeks for both options***"
   ]
  },
  {
   "cell_type": "code",
   "execution_count": 16,
   "metadata": {},
   "outputs": [
    {
     "name": "stdout",
     "output_type": "stream",
     "text": [
      "delta + Call\n",
      "0.779131290942669\n",
      "delta + Put\n",
      "-0.22086870905733103\n",
      "gamma + Call\n",
      "0.04996267040591185\n",
      "gamma + Put\n",
      "0.04996267040591185\n",
      "theta + Call\n",
      "-4.559092194592627\n",
      "theta + Put\n",
      "1.0584711857367115\n",
      "vega + Call\n",
      "8.813415059602853\n",
      "vega + Put\n",
      "8.813415059602853\n",
      "rho + Call\n",
      "13.982045913360283\n",
      "rho + Put\n",
      "-5.0425425766539975\n"
     ]
    }
   ],
   "source": [
    "# calc delta, gamma, theta, vega for both the call and the put\n",
    "print(\"delta + Call\")\n",
    "print(BlackScholes.calc_delta(EuropeanCallOpt))\n",
    "print(\"delta + Put\")\n",
    "print(BlackScholes.calc_delta(EuropeanPutOpt))\n",
    "print('gamma + Call')\n",
    "print(BlackScholes.calc_gamma(EuropeanCallOpt))\n",
    "print('gamma + Put')\n",
    "print(BlackScholes.calc_gamma(EuropeanPutOpt))\n",
    "print('theta + Call')\n",
    "print(BlackScholes.calc_theta(EuropeanCallOpt))\n",
    "print('theta + Put')\n",
    "print(BlackScholes.calc_theta(EuropeanPutOpt))\n",
    "print('vega + Call')\n",
    "print(BlackScholes.calc_vega(EuropeanCallOpt))\n",
    "print('vega + Put')\n",
    "print(BlackScholes.calc_vega(EuropeanPutOpt))\n",
    "print('rho + Call')\n",
    "print(BlackScholes.calc_rho(EuropeanCallOpt))\n",
    "print('rho + Put')\n",
    "print(BlackScholes.calc_rho(EuropeanPutOpt))\n"
   ]
  },
  {
   "cell_type": "markdown",
   "metadata": {},
   "source": []
  }
 ],
 "metadata": {
  "kernelspec": {
   "display_name": "Python 3 (ipykernel)",
   "language": "python",
   "name": "python3"
  },
  "language_info": {
   "codemirror_mode": {
    "name": "ipython",
    "version": 3
   },
   "file_extension": ".py",
   "mimetype": "text/x-python",
   "name": "python",
   "nbconvert_exporter": "python",
   "pygments_lexer": "ipython3",
   "version": "3.11.5"
  }
 },
 "nbformat": 4,
 "nbformat_minor": 2
}
